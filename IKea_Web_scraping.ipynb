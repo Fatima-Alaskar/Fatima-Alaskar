{
  "nbformat": 4,
  "nbformat_minor": 0,
  "metadata": {
    "kernelspec": {
      "display_name": "Python 3",
      "language": "python",
      "name": "python3"
    },
    "language_info": {
      "codemirror_mode": {
        "name": "ipython",
        "version": 3
      },
      "file_extension": ".py",
      "mimetype": "text/x-python",
      "name": "python",
      "nbconvert_exporter": "python",
      "pygments_lexer": "ipython3",
      "version": "3.8.3"
    },
    "colab": {
      "name": "IKea Web scraping",
      "provenance": []
    }
  },
  "cells": [
    {
      "cell_type": "code",
      "metadata": {
        "id": "_CHRytjqvceq"
      },
      "source": [
        "import requests\n",
        "from bs4 import BeautifulSoup\n",
        "import pandas as pd\n",
        "import numpy as np\n",
        "import time"
      ],
      "execution_count": null,
      "outputs": []
    },
    {
      "cell_type": "code",
      "metadata": {
        "id": "hHk4JvVWvcet"
      },
      "source": [
        "        \n",
        "response = requests.get('https://www.ikea.com/sa/en/cat/chairs-fu002')\n",
        "\n",
        "#print(response.status_code)\n",
        "\n",
        "soup = BeautifulSoup(response.text, 'html.parser')\n",
        "#print (soup)            \n",
        "            \n",
        "prodact = soup.findAll(class_=\"plp-fragment-wrapper\")\n",
        "#print(prodact)\n",
        "#categ = soup.findAll(class_=\"pub__teaser__info\")\n",
        "\n",
        "prices=[1:]\n",
        "names=[1:]\n",
        "categorys=[1:]\n",
        "Descriptions=[1:]\n",
        "Measurements=[1:]\n",
        "news=[1:]"
      ],
      "execution_count": null,
      "outputs": []
    },
    {
      "cell_type": "code",
      "metadata": {
        "id": "2zZlsICmvceu"
      },
      "source": [
        "# Collect Chairs\n",
        "\n",
        "\n",
        "for i in np.arange(1,int(6)):\n",
        "             url='https://www.ikea.com/sa/en/cat/chairs-fu002/?page='+str(i)\n",
        "             response = requests.get(url)\n",
        "             soup = BeautifulSoup(response.text, 'html.parser')\n",
        "\n",
        "\n",
        "#-------------------------------------------------------------------------------------------------------\n",
        "\n",
        "             for prodacts in prodact :#name\n",
        "                if prodacts.find('div', class_='range-revamp-header-section__title--small') is not None:\n",
        "                    name = prodacts.find('div',class_='range-revamp-header-section__title--small').text\n",
        "                    names.append(name)\n",
        "                else:\n",
        "                    names.append(None)\n",
        "\n",
        "             #print(names)\n",
        "\n",
        "#-------------------------------------------------------------------------------------------------------\n",
        "\n",
        "             for prodacts in prodact :#prices\n",
        "                if prodacts.find('span', class_='range-revamp-price__integer') is not None:\n",
        "                    price1 = prodacts.find('span', class_='range-revamp-price__integer').text\n",
        "                    prices.append(price1)\n",
        "                else:\n",
        "                    prices.append(None)\n",
        "            # print(prices) \n",
        "            \n",
        "#-------------------------------------------------------------------------------------------------------\n",
        "\n",
        "             for prodacts in prodact :#cat\n",
        "   \n",
        "                    categorys.append(\"Chairs\")    \n",
        "            # print (categorys)\n",
        "            # for prodacts in categ :#mu\n",
        "             #   if prodacts.find('h1', class_='plp-page-title__title') is not None:\n",
        "              #      category = prodacts.find('h1',class_='plp-page-title__title').text\n",
        "               #     categorys.append(category)\n",
        "                #else:\n",
        "                #   categorys.append(None)\n",
        "        \n",
        "            # print(categorys)\n",
        "            \n",
        "#-------------------------------------------------------------------------------------------------------\n",
        "\n",
        "             for prodacts in prodact :#des\n",
        "                if prodacts.find('span', class_='range-revamp-header-section__description-text') is not None:\n",
        "                    Description = prodacts.find('span',class_='range-revamp-header-section__description-text').text\n",
        "                    Descriptions.append(Description)\n",
        "                else:\n",
        "                    Descriptions.append(None)\n",
        "        \n",
        "            # print(Descriptions)\n",
        "            \n",
        "#-------------------------------------------------------------------------------------------------------\n",
        "\n",
        "             for prodacts in prodact :#mu\n",
        "                if prodacts.find('span', class_='range-revamp-header-section__description-measurement') is not None:\n",
        "                    Measurement = prodacts.find('span',class_='range-revamp-header-section__description-measurement').text\n",
        "                    Measurements.append(Measurement)\n",
        "                else:\n",
        "                    Measurements.append(None)\n",
        "        \n",
        "            # print(Measurements)\n",
        "            \n",
        "#-------------------------------------------------------------------------------------------------------\n",
        "\n",
        "             for prodacts in prodact :#mu\n",
        "                if prodacts.find('span', class_='range-revamp-product-highlight range-revamp-product-highlight__new') is not None:\n",
        "                    new = prodacts.find('span',class_='range-revamp-product-highlight range-revamp-product-highlight__new').text\n",
        "                    news.append(new)\n",
        "                else:\n",
        "                    news.append(\"Not new\")\n",
        "        \n",
        "            # print(news)"
      ],
      "execution_count": null,
      "outputs": []
    },
    {
      "cell_type": "code",
      "metadata": {
        "id": "8U4KlK-9vcew"
      },
      "source": [
        "df=pd.DataFrame({'prices':prices,'categorys':categorys,'names':names,'Descriptions':Descriptions,'Measurements':Measurements,'New or not':news})\n",
        "df"
      ],
      "execution_count": null,
      "outputs": []
    },
    {
      "cell_type": "code",
      "metadata": {
        "id": "0TwIzxH5vcew"
      },
      "source": [
        "         \n",
        "response = requests.get('https://www.ikea.com/sa/en/cat/beds-bm003/')\n",
        "\n",
        "#print(response.status_code)\n",
        "\n",
        "soup = BeautifulSoup(response.text, 'html.parser')\n",
        "#print (soup)                       \n"
      ],
      "execution_count": null,
      "outputs": []
    },
    {
      "cell_type": "code",
      "metadata": {
        "id": "qM9HBLUPvcex"
      },
      "source": [
        "# Collect and parse first page\n",
        "\n",
        "\n",
        "for i in np.arange(1,int(6)):\n",
        "             url='https://www.ikea.com/sa/en/cat/beds-bm003/?page='+str(i)\n",
        "             response = requests.get(url)\n",
        "             soup = BeautifulSoup(response.text, 'html.parser')\n",
        "\n",
        "#-------------------------------------------------------------------------------------------------------\n",
        "\n",
        "             for prodacts in prodact :#name\n",
        "                if prodacts.find('div', class_='range-revamp-header-section__title--small') is not None:\n",
        "                    name = prodacts.find('div',class_='range-revamp-header-section__title--small').text\n",
        "                    names.append(name)\n",
        "                else:\n",
        "                    names.append(None)\n",
        "  \n",
        "             #print(names)\n",
        "\n",
        "#-------------------------------------------------------------------------------------------------------\n",
        "\n",
        "             for prodacts in prodact :#prices\n",
        "                if prodacts.find('span', class_='range-revamp-price__integer') is not None:\n",
        "                    price1 = prodacts.find('span', class_='range-revamp-price__integer').text\n",
        "                    prices.append(price1)\n",
        "                else:\n",
        "                    prices.append(None)\n",
        "            # print(prices) \n",
        "            \n",
        "#-------------------------------------------------------------------------------------------------------\n",
        "\n",
        "             for prodacts in prodact :#cat\n",
        "   \n",
        "                    categorys.append(\"Beds\")    \n",
        "            # print (categorys)\n",
        "\n",
        "#-------------------------------------------------------------------------------------------------------\n",
        "\n",
        "             for prodacts in prodact :#des\n",
        "                if prodacts.find('span', class_='range-revamp-header-section__description-text') is not None:\n",
        "                    Description = prodacts.find('span',class_='range-revamp-header-section__description-text').text\n",
        "                    Descriptions.append(Description)\n",
        "                else:\n",
        "                    Descriptions.append(None)\n",
        "        \n",
        "            # print(Descriptions)\n",
        "\n",
        "#-------------------------------------------------------------------------------------------------------\n",
        "\n",
        "             for prodacts in prodact :#mu\n",
        "                if prodacts.find('span', class_='range-revamp-header-section__description-measurement') is not None:\n",
        "                    Measurement = prodacts.find('span',class_='range-revamp-header-section__description-measurement').text\n",
        "                    Measurements.append(Measurement)\n",
        "                else:\n",
        "                    Measurements.append(None)\n",
        "        \n",
        "            # print(Measurements)\n",
        "#-------------------------------------------------------------------------------------------------------\n",
        "\n",
        "             for prodacts in prodact :#mu\n",
        "                if prodacts.find('span', class_='range-revamp-product-highlight range-revamp-product-highlight__new') is not None:\n",
        "                    new = prodacts.find('span',class_='range-revamp-product-highlight range-revamp-product-highlight__new').text\n",
        "                    news.append(new)\n",
        "                else:\n",
        "                    news.append(\"Not new\")\n",
        "        \n",
        "            # print(news)"
      ],
      "execution_count": null,
      "outputs": []
    },
    {
      "cell_type": "code",
      "metadata": {
        "id": "8S7IT6RSvce2"
      },
      "source": [
        "df=pd.DataFrame({'prices':prices,'categorys':categorys,'names':names,'Descriptions':Descriptions,'Measurements':Measurements,'New or not':news})\n",
        "df"
      ],
      "execution_count": null,
      "outputs": []
    },
    {
      "cell_type": "code",
      "metadata": {
        "id": "sm78AvDRvce6"
      },
      "source": [
        "response = requests.get('https://www.ikea.com/sa/en/cat/tables-desks-fu004/')\n",
        "\n",
        "#print(response.status_code)\n",
        "\n",
        "soup = BeautifulSoup(response.text, 'html.parser')\n",
        "#print (soup)   "
      ],
      "execution_count": null,
      "outputs": []
    },
    {
      "cell_type": "code",
      "metadata": {
        "id": "gW26TDdYvce6"
      },
      "source": [
        "# Collect and parse first page\n",
        "\n",
        "\n",
        "for i in np.arange(1,int(6)):\n",
        "             url='https://www.ikea.com/sa/en/cat/tables-desks-fu004/?page='+str(i)\n",
        "             response = requests.get(url)\n",
        "             soup = BeautifulSoup(response.text, 'html.parser')\n",
        "\n",
        "#-------------------------------------------------------------------------------------------------------\n",
        "\n",
        "             for prodacts in prodact :#name\n",
        "                if prodacts.find('div', class_='range-revamp-header-section__title--small') is not None:\n",
        "                    name = prodacts.find('div',class_='range-revamp-header-section__title--small').text\n",
        "                    names.append(name)\n",
        "                else:\n",
        "                    names.append(None)\n",
        "  \n",
        "             #print(names)\n",
        "\n",
        "#-------------------------------------------------------------------------------------------------------\n",
        "\n",
        "             for prodacts in prodact :#prices\n",
        "                if prodacts.find('span', class_='range-revamp-price__integer') is not None:\n",
        "                    price1 = prodacts.find('span', class_='range-revamp-price__integer').text\n",
        "                    prices.append(price1)\n",
        "                else:\n",
        "                    prices.append(None)\n",
        "            # print(prices) \n",
        "            \n",
        "#-------------------------------------------------------------------------------------------------------\n",
        "\n",
        "             for prodacts in prodact :#cat\n",
        "   \n",
        "                    categorys.append(\"Tables & desks\")    \n",
        "            # print (categorys)\n",
        "\n",
        "#-------------------------------------------------------------------------------------------------------\n",
        "\n",
        "             for prodacts in prodact :#des\n",
        "                if prodacts.find('span', class_='range-revamp-header-section__description-text') is not None:\n",
        "                    Description = prodacts.find('span',class_='range-revamp-header-section__description-text').text\n",
        "                    Descriptions.append(Description)\n",
        "                else:\n",
        "                    Descriptions.append(None)\n",
        "        \n",
        "            # print(Descriptions)\n",
        "\n",
        "#-------------------------------------------------------------------------------------------------------\n",
        "\n",
        "             for prodacts in prodact :#mu\n",
        "                if prodacts.find('span', class_='range-revamp-header-section__description-measurement') is not None:\n",
        "                    Measurement = prodacts.find('span',class_='range-revamp-header-section__description-measurement').text\n",
        "                    Measurements.append(Measurement)\n",
        "                else:\n",
        "                    Measurements.append(None)\n",
        "        \n",
        "            # print(Measurements)\n",
        "#-------------------------------------------------------------------------------------------------------\n",
        "\n",
        "             for prodacts in prodact :#mu\n",
        "                if prodacts.find('span', class_='range-revamp-product-highlight range-revamp-product-highlight__new') is not None:\n",
        "                    new = prodacts.find('span',class_='range-revamp-product-highlight range-revamp-product-highlight__new').text\n",
        "                    news.append(new)\n",
        "                else:\n",
        "                    news.append(\"Not new\")\n",
        "        \n",
        "            # print(news)"
      ],
      "execution_count": null,
      "outputs": []
    },
    {
      "cell_type": "code",
      "metadata": {
        "id": "ezU1wT63vce7"
      },
      "source": [
        "df=pd.DataFrame({'prices':prices,'categorys':categorys,'names':names,'Descriptions':Descriptions,'Measurements':Measurements,'New or not':news})\n",
        "df"
      ],
      "execution_count": null,
      "outputs": []
    },
    {
      "cell_type": "code",
      "metadata": {
        "id": "qG8on0yvvce8"
      },
      "source": [
        "df.to_csv('Desktop/jupyter/DS_project.csv')"
      ],
      "execution_count": null,
      "outputs": []
    }
  ]
}